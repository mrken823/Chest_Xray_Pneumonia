{
  "nbformat": 4,
  "nbformat_minor": 0,
  "metadata": {
    "colab": {
      "name": "Chest_XRay_Images_Pneumonia_ResNet50.ipynb",
      "version": "0.3.2",
      "provenance": [],
      "collapsed_sections": []
    },
    "kernelspec": {
      "name": "python3",
      "display_name": "Python 3"
    },
    "accelerator": "GPU"
  },
  "cells": [
    {
      "cell_type": "markdown",
      "metadata": {
        "id": "SMcfnmKBHirZ",
        "colab_type": "text"
      },
      "source": [
        ""
      ]
    },
    {
      "cell_type": "code",
      "metadata": {
        "id": "9G9FLVdIZLj-",
        "colab_type": "code",
        "colab": {}
      },
      "source": [
        "import os\n",
        "import numpy as np\n",
        "import keras\n",
        "from keras.models import Sequential, save_model, load_model\n",
        "from keras.layers import Dense, Conv2D, Flatten, MaxPooling2D, Dropout\n",
        "from keras.utils import to_categorical\n",
        "from keras.optimizers import Adam\n",
        "from keras.preprocessing.image import *\n",
        "from keras.applications.vgg16 import VGG16, preprocess_input"
      ],
      "execution_count": 0,
      "outputs": []
    },
    {
      "cell_type": "markdown",
      "metadata": {
        "id": "XeUPtxIkhwGD",
        "colab_type": "text"
      },
      "source": [
        "Mount my Google Drive folder"
      ]
    },
    {
      "cell_type": "code",
      "metadata": {
        "id": "BGzG6W73Z-8d",
        "colab_type": "code",
        "outputId": "7774dc76-005c-4540-bc40-010156303968",
        "colab": {
          "base_uri": "https://localhost:8080/",
          "height": 34
        }
      },
      "source": [
        "from google.colab import drive\n",
        "drive.mount('/content/gdrive/')\n",
        "\n",
        "# setting some useful path variables\n",
        "path_proj = 'gdrive/My Drive/Projects_2019/Chest X-Ray Images (Pneumonia)/'\n",
        "path_model = path_proj + 'Model/'\n",
        "path_data = path_proj + 'Data/'\n",
        "path_data_trn = path_proj + 'Data/train/'\n",
        "path_data_val = path_proj + 'Data/test/'"
      ],
      "execution_count": 13,
      "outputs": [
        {
          "output_type": "stream",
          "text": [
            "Drive already mounted at /content/gdrive/; to attempt to forcibly remount, call drive.mount(\"/content/gdrive/\", force_remount=True).\n"
          ],
          "name": "stdout"
        }
      ]
    },
    {
      "cell_type": "markdown",
      "metadata": {
        "id": "6Z9txPMCh56W",
        "colab_type": "text"
      },
      "source": [
        "Load from my Google Drive folder"
      ]
    },
    {
      "cell_type": "code",
      "metadata": {
        "id": "5jVsv1QNyPui",
        "colab_type": "code",
        "outputId": "23f2865c-b5d2-4e95-da5b-49ab82ccd49f",
        "colab": {
          "base_uri": "https://localhost:8080/",
          "height": 51
        }
      },
      "source": [
        "# train:val is set to be 8:2\n",
        "imgen = ImageDataGenerator()\n",
        "X_trn = imgen.flow_from_directory(path_data_trn, batch_size=64, target_size=(224,224), shuffle=True, class_mode='binary')\n",
        "X_val = imgen.flow_from_directory(path_data_val, batch_size=64, target_size=(224,224), shuffle=True, class_mode='binary')"
      ],
      "execution_count": 14,
      "outputs": [
        {
          "output_type": "stream",
          "text": [
            "Found 5216 images belonging to 2 classes.\n",
            "Found 624 images belonging to 2 classes.\n"
          ],
          "name": "stdout"
        }
      ]
    },
    {
      "cell_type": "code",
      "metadata": {
        "id": "zvqld5DS8gWn",
        "colab_type": "code",
        "colab": {
          "base_uri": "https://localhost:8080/",
          "height": 51
        },
        "outputId": "4adfc692-9b61-4f75-b500-d90a3b73c3f5"
      },
      "source": [
        "from keras.applications.resnet50 import ResNet50\n",
        "\n",
        "RN50 = ResNet50(weights='imagenet', pooling=max, include_top = False, input_shape=(224,224,3)) \n",
        "\n",
        "for layer in RN50.layers:\n",
        "    layer.trainable = False"
      ],
      "execution_count": 17,
      "outputs": [
        {
          "output_type": "stream",
          "text": [
            "/usr/local/lib/python3.6/dist-packages/keras_applications/resnet50.py:265: UserWarning: The output shape of `ResNet50(include_top=False)` has been changed since Keras 2.2.0.\n",
            "  warnings.warn('The output shape of `ResNet50(include_top=False)` '\n"
          ],
          "name": "stderr"
        }
      ]
    },
    {
      "cell_type": "code",
      "metadata": {
        "id": "wZZf_fPyBVvr",
        "colab_type": "code",
        "outputId": "e03fe5a9-4315-4b79-8d6c-f2b31e672514",
        "colab": {
          "base_uri": "https://localhost:8080/",
          "height": 544
        }
      },
      "source": [
        "# Just to make sure model is clean before adding layers to it\n",
        "model = None\n",
        "model = Sequential()\n",
        "# \"Borrow\" VGG16 as a feature extractor\n",
        "model.add(RN50)\n",
        "# Concatenate the feature extracted from VGG16\n",
        "model.add(Flatten())\n",
        "model.add(Dense(512, activation='relu'))\n",
        "model.add(Dropout(0.2))\n",
        "model.add(Dense(128, activation='relu'))\n",
        "model.add(Dropout(0.2))\n",
        "model.add(Dense(32, activation='relu'))\n",
        "model.add(Dropout(0.2))\n",
        "model.add(Dense(8, activation='relu'))\n",
        "model.add(Dropout(0.2))\n",
        "model.add(Dense(1, activation='softmax'))\n",
        "model.add(Dropout(0.2))\n",
        "\n",
        "# Checking the model architecture\n",
        "model.summary()"
      ],
      "execution_count": 18,
      "outputs": [
        {
          "output_type": "stream",
          "text": [
            "_________________________________________________________________\n",
            "Layer (type)                 Output Shape              Param #   \n",
            "=================================================================\n",
            "resnet50 (Model)             (None, 7, 7, 2048)        23587712  \n",
            "_________________________________________________________________\n",
            "flatten_2 (Flatten)          (None, 100352)            0         \n",
            "_________________________________________________________________\n",
            "dense_1 (Dense)              (None, 512)               51380736  \n",
            "_________________________________________________________________\n",
            "dropout_1 (Dropout)          (None, 512)               0         \n",
            "_________________________________________________________________\n",
            "dense_2 (Dense)              (None, 128)               65664     \n",
            "_________________________________________________________________\n",
            "dropout_2 (Dropout)          (None, 128)               0         \n",
            "_________________________________________________________________\n",
            "dense_3 (Dense)              (None, 32)                4128      \n",
            "_________________________________________________________________\n",
            "dropout_3 (Dropout)          (None, 32)                0         \n",
            "_________________________________________________________________\n",
            "dense_4 (Dense)              (None, 8)                 264       \n",
            "_________________________________________________________________\n",
            "dropout_4 (Dropout)          (None, 8)                 0         \n",
            "_________________________________________________________________\n",
            "dense_5 (Dense)              (None, 1)                 9         \n",
            "_________________________________________________________________\n",
            "dropout_5 (Dropout)          (None, 1)                 0         \n",
            "=================================================================\n",
            "Total params: 75,038,513\n",
            "Trainable params: 51,450,801\n",
            "Non-trainable params: 23,587,712\n",
            "_________________________________________________________________\n"
          ],
          "name": "stdout"
        }
      ]
    },
    {
      "cell_type": "markdown",
      "metadata": {
        "id": "Xpha4MmGDzvC",
        "colab_type": "text"
      },
      "source": [
        "Learning rate finder for Keras\n",
        "Package downloaded via Pip is not updated, so I just copied the links here\n",
        "\n",
        "https://github.com/surmenok/keras_lr_finder/blob/master/keras_lr_finder/lr_finder.py\n",
        "\n",
        "https://towardsdatascience.com/estimating-optimal-learning-rate-for-a-deep-neural-network-ce32f2556ce0"
      ]
    },
    {
      "cell_type": "code",
      "metadata": {
        "id": "6a2B58Q3UyLw",
        "colab_type": "code",
        "colab": {}
      },
      "source": [
        "# If there's no improvement for 5 epochs, then training will stop\n",
        "ES = keras.callbacks.EarlyStopping(monitor=\"val_loss\", patience=10, min_delta=0.01)\n",
        "# Saving the best model during training\n",
        "CP = keras.callbacks.ModelCheckpoint(path_model + 'RN50_512_128_32_8_checkpoint.hdf5', save_best_only=True)"
      ],
      "execution_count": 0,
      "outputs": []
    },
    {
      "cell_type": "code",
      "metadata": {
        "id": "m5TQDw4SCSNW",
        "colab_type": "code",
        "colab": {}
      },
      "source": [
        "# Specify the optimiser, initial learning rate, loss function and metrics\n",
        "model.compile(optimizer=Adam(), loss=\"binary_crossentropy\", metrics=['acc'])"
      ],
      "execution_count": 0,
      "outputs": []
    },
    {
      "cell_type": "code",
      "metadata": {
        "id": "V6FXokQjz53c",
        "colab_type": "code",
        "outputId": "cc3f47b4-36ba-4662-9d26-f2ef21abe957",
        "colab": {
          "base_uri": "https://localhost:8080/",
          "height": 153
        }
      },
      "source": [
        "# Train the model\n",
        "history = model.fit_generator(X_trn, steps_per_epoch=5216/64, epochs=9999, validation_data=X_val, validation_steps=624/64, callbacks=[ES, CP])\n",
        "\n",
        "# Save the model after training\n",
        "model.save(path_model + 'RN50_512_128_32_8.hdf5')\n",
        "print('checkpoint is saved as: ' + path_model + 'RN50_512_128_32_8.hdf5')"
      ],
      "execution_count": 0,
      "outputs": [
        {
          "output_type": "stream",
          "text": [
            "Epoch 1/9999\n",
            "82/81 [==============================] - 2312s 28s/step - loss: 5.6758 - acc: 0.6456 - val_loss: 5.9528 - val_acc: 0.6266\n",
            "Epoch 2/9999\n",
            "82/81 [==============================] - 75s 910ms/step - loss: 5.6121 - acc: 0.6496 - val_loss: 6.0039 - val_acc: 0.6234\n",
            "Epoch 3/9999\n",
            "82/81 [==============================] - 78s 955ms/step - loss: 5.6580 - acc: 0.6467 - val_loss: 5.9528 - val_acc: 0.6266\n",
            "Epoch 4/9999\n",
            "82/81 [==============================] - 77s 940ms/step - loss: 5.6028 - acc: 0.6501 - val_loss: 5.7740 - val_acc: 0.6378\n"
          ],
          "name": "stdout"
        }
      ]
    },
    {
      "cell_type": "code",
      "metadata": {
        "id": "Fze2vCz77Pf_",
        "colab_type": "code",
        "outputId": "7e2731bf-a791-4ae3-bc5e-88d080f7aef2",
        "colab": {
          "base_uri": "https://localhost:8080/",
          "height": 170
        }
      },
      "source": [
        "# Load the best model during training\n",
        "model = load_model(path_model + 'RN50_512_128_32_8.hdf5')"
      ],
      "execution_count": 0,
      "outputs": [
        {
          "output_type": "stream",
          "text": [
            "WARNING:tensorflow:From /usr/local/lib/python3.6/dist-packages/tensorflow/python/framework/op_def_library.py:263: colocate_with (from tensorflow.python.framework.ops) is deprecated and will be removed in a future version.\n",
            "Instructions for updating:\n",
            "Colocations handled automatically by placer.\n",
            "WARNING:tensorflow:From /usr/local/lib/python3.6/dist-packages/keras/backend/tensorflow_backend.py:3445: calling dropout (from tensorflow.python.ops.nn_ops) with keep_prob is deprecated and will be removed in a future version.\n",
            "Instructions for updating:\n",
            "Please use `rate` instead of `keep_prob`. Rate should be set to `rate = 1 - keep_prob`.\n",
            "WARNING:tensorflow:From /usr/local/lib/python3.6/dist-packages/tensorflow/python/ops/math_ops.py:3066: to_int32 (from tensorflow.python.ops.math_ops) is deprecated and will be removed in a future version.\n",
            "Instructions for updating:\n",
            "Use tf.cast instead.\n"
          ],
          "name": "stdout"
        }
      ]
    },
    {
      "cell_type": "code",
      "metadata": {
        "id": "5ZwPKl7Yml4M",
        "colab_type": "code",
        "colab": {}
      },
      "source": [
        "# Output class probabilities using the best model\n",
        "p_hat_trn = model.predict_generator(X_trn, steps=5216/64)\n",
        "p_hat_val = model.predict_generator(X_val, steps=624/64)\n",
        "\n",
        "# Output class predictions using the best model\n",
        "y_hat_trn = np.squeeze([[np.argmax(p_hat_trn[i])] for i in range(len(p_hat_trn))])\n",
        "y_hat_val = np.squeeze([[np.argmax(p_hat_val[i])] for i in range(len(p_hat_val))])"
      ],
      "execution_count": 0,
      "outputs": []
    },
    {
      "cell_type": "code",
      "metadata": {
        "id": "eDWFUg7oml-q",
        "colab_type": "code",
        "colab": {}
      },
      "source": [
        "acc_trn = np.sum([[y_hat_trn[i]==X_trn.labels[i]] for i in range(len(y_hat_trn))])/len(y_hat_trn)\n",
        "acc_val = np.sum([[y_hat_val[i]==X_val.labels[i]] for i in range(len(y_hat_val))])/len(y_hat_val)\n",
        "\n",
        "print(acc_trn)\n",
        "print(acc_val)"
      ],
      "execution_count": 0,
      "outputs": []
    },
    {
      "cell_type": "code",
      "metadata": {
        "id": "5O6icECSrQcL",
        "colab_type": "code",
        "outputId": "914d2ba1-2fc2-4359-dab4-ac7733fbfff6",
        "colab": {
          "base_uri": "https://localhost:8080/",
          "height": 68
        }
      },
      "source": [
        ""
      ],
      "execution_count": 0,
      "outputs": [
        {
          "output_type": "execute_result",
          "data": {
            "text/plain": [
              "array([0, 0, 0, 0, 0, 0, 0, 0, 0, 0, 0, 0, 0, 0, 0, 0, 0, 0, 0, 0, 0, 0,\n",
              "       0, 0, 0, 0, 0, 0, 0, 0, 0, 0, 0, 0, 0, 0, 0, 0, 0, 0, 0, 0, 0, 0,\n",
              "       0, 0, 0, 0, 0, 0, 0, 0, 0, 0, 0, 0, 0, 0, 0, 0, 0, 0, 0, 0])"
            ]
          },
          "metadata": {
            "tags": []
          },
          "execution_count": 7
        }
      ]
    }
  ]
}